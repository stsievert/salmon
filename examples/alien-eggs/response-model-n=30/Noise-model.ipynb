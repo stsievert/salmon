{
 "cells": [
  {
   "cell_type": "code",
   "execution_count": 1,
   "metadata": {},
   "outputs": [],
   "source": [
    "import pandas as pd\n",
    "from typing import Dict, Any, Union, Optional\n",
    "import json\n",
    "from zipfile import ZipFile"
   ]
  },
  {
   "cell_type": "code",
   "execution_count": 2,
   "metadata": {},
   "outputs": [],
   "source": [
    "def _flatten_query(q: Dict[str, Any]) -> Optional[Dict[str, int]]:\n",
    "    if \"index_winner\" not in q:\n",
    "        return None\n",
    "    sent = {\n",
    "        d[\"label\"] if d[\"label\"] != \"center\" else \"head\": d[\"index\"]\n",
    "        for d in q[\"target_indices\"]\n",
    "    }\n",
    "    t = q[\"timestamp_query_generated\"]\n",
    "    dt = q[\"response_time\"]\n",
    "    label = q[\"alg_label\"]\n",
    "    return {\n",
    "        \"winner\": q[\"index_winner\"],\n",
    "        \"alg\": label,\n",
    "        \"response_time\": dt,\n",
    "        **sent,\n",
    "    }\n",
    "\n",
    "\n",
    "def _munge(fname: str) -> pd.DataFrame:\n",
    "    with ZipFile(fname) as zf:\n",
    "        with zf.open(fname.replace(\".zip\", \"\")) as f:\n",
    "            raw = json.load(f)\n",
    "\n",
    "    assert raw.pop(\"meta\") == {\"status\": \"OK\", \"code\": 200}\n",
    "    assert len(raw) == 1\n",
    "    rare = raw[\"participant_responses\"]\n",
    "    mrare = sum(rare.values(), [])\n",
    "    medium = [_flatten_query(d) for d in mrare]\n",
    "    mwell = [m for m in medium if m]\n",
    "    df = pd.DataFrame(mwell)\n",
    "    cols = [\"head\", \"left\", \"right\", \"winner\", \"alg\", \"response_time\"]\n",
    "    assert set(df.columns) == set(cols)\n",
    "    df[\"loser\"] = df[[\"head\", \"left\", \"right\", \"winner\"]].apply(\n",
    "        lambda r: r[\"left\"] if r[\"winner\"] == r[\"right\"] else r[\"right\"], axis=1\n",
    "    )\n",
    "    return df[cols + [\"loser\"]]"
   ]
  },
  {
   "cell_type": "code",
   "execution_count": 3,
   "metadata": {},
   "outputs": [],
   "source": [
    "fnames = [\n",
    "    (0, \"i0126.png\"), (1, \"i0208.png\"), (2, \"i0076.png\"), (3, \"i0326.png\"),\n",
    "    (4, \"i0526.png\"), (5, \"i0322.png\"), (6, \"i0312.png\"), (7, \"i0036.png\"),\n",
    "    (8, \"i0414.png\"), (9, \"i0256.png\"), (10, \"i0074.png\"), (11, \"i0050.png\"),\n",
    "    (12, \"i0470.png\"), (13, \"i0022.png\"), (14, \"i0430.png\"), (15, \"i0254.png\"),\n",
    "    (16, \"i0572.png\"), (17, \"i0200.png\"), (18, \"i0524.png\"), (19, \"i0220.png\"),\n",
    "    (20, \"i0438.png\"), (21, \"i0454.png\"), (22, \"i0112.png\"), (23, \"i0494.png\"),\n",
    "    (24, \"i0194.png\"), (25, \"i0152.png\"), (26, \"i0420.png\"), (27, \"i0142.png\"),\n",
    "    (28, \"i0114.png\"), (29, \"i0184.png\"),\n",
    "]\n",
    "smoothness = {idx: int(target.strip(\"i.png\")) for idx, target in fnames}"
   ]
  },
  {
   "cell_type": "code",
   "execution_count": 4,
   "metadata": {},
   "outputs": [
    {
     "data": {
      "text/html": [
       "<div>\n",
       "<style scoped>\n",
       "    .dataframe tbody tr th:only-of-type {\n",
       "        vertical-align: middle;\n",
       "    }\n",
       "\n",
       "    .dataframe tbody tr th {\n",
       "        vertical-align: top;\n",
       "    }\n",
       "\n",
       "    .dataframe thead th {\n",
       "        text-align: right;\n",
       "    }\n",
       "</style>\n",
       "<table border=\"1\" class=\"dataframe\">\n",
       "  <thead>\n",
       "    <tr style=\"text-align: right;\">\n",
       "      <th></th>\n",
       "      <th>head</th>\n",
       "      <th>left</th>\n",
       "      <th>right</th>\n",
       "      <th>winner</th>\n",
       "      <th>alg</th>\n",
       "      <th>response_time</th>\n",
       "      <th>loser</th>\n",
       "      <th>head_x</th>\n",
       "      <th>left_x</th>\n",
       "      <th>right_x</th>\n",
       "      <th>winner_x</th>\n",
       "    </tr>\n",
       "  </thead>\n",
       "  <tbody>\n",
       "    <tr>\n",
       "      <th>0</th>\n",
       "      <td>11</td>\n",
       "      <td>15</td>\n",
       "      <td>28</td>\n",
       "      <td>28</td>\n",
       "      <td>RandomSampling</td>\n",
       "      <td>7.262</td>\n",
       "      <td>15</td>\n",
       "      <td>50</td>\n",
       "      <td>254</td>\n",
       "      <td>114</td>\n",
       "      <td>114</td>\n",
       "    </tr>\n",
       "    <tr>\n",
       "      <th>4</th>\n",
       "      <td>9</td>\n",
       "      <td>15</td>\n",
       "      <td>25</td>\n",
       "      <td>25</td>\n",
       "      <td>RandomSampling</td>\n",
       "      <td>1.742</td>\n",
       "      <td>15</td>\n",
       "      <td>256</td>\n",
       "      <td>254</td>\n",
       "      <td>152</td>\n",
       "      <td>152</td>\n",
       "    </tr>\n",
       "    <tr>\n",
       "      <th>22</th>\n",
       "      <td>20</td>\n",
       "      <td>8</td>\n",
       "      <td>22</td>\n",
       "      <td>8</td>\n",
       "      <td>RandomSampling</td>\n",
       "      <td>1.613</td>\n",
       "      <td>22</td>\n",
       "      <td>438</td>\n",
       "      <td>414</td>\n",
       "      <td>112</td>\n",
       "      <td>414</td>\n",
       "    </tr>\n",
       "    <tr>\n",
       "      <th>25</th>\n",
       "      <td>15</td>\n",
       "      <td>3</td>\n",
       "      <td>16</td>\n",
       "      <td>3</td>\n",
       "      <td>RandomSampling</td>\n",
       "      <td>1.251</td>\n",
       "      <td>16</td>\n",
       "      <td>254</td>\n",
       "      <td>326</td>\n",
       "      <td>572</td>\n",
       "      <td>326</td>\n",
       "    </tr>\n",
       "    <tr>\n",
       "      <th>26</th>\n",
       "      <td>21</td>\n",
       "      <td>29</td>\n",
       "      <td>0</td>\n",
       "      <td>0</td>\n",
       "      <td>RandomSampling</td>\n",
       "      <td>2.233</td>\n",
       "      <td>29</td>\n",
       "      <td>454</td>\n",
       "      <td>184</td>\n",
       "      <td>126</td>\n",
       "      <td>126</td>\n",
       "    </tr>\n",
       "  </tbody>\n",
       "</table>\n",
       "</div>"
      ],
      "text/plain": [
       "    head  left  right  winner             alg  response_time  loser  head_x  \\\n",
       "0     11    15     28      28  RandomSampling          7.262     15      50   \n",
       "4      9    15     25      25  RandomSampling          1.742     15     256   \n",
       "22    20     8     22       8  RandomSampling          1.613     22     438   \n",
       "25    15     3     16       3  RandomSampling          1.251     16     254   \n",
       "26    21    29      0       0  RandomSampling          2.233     29     454   \n",
       "\n",
       "    left_x  right_x  winner_x  \n",
       "0      254      114       114  \n",
       "4      254      152       152  \n",
       "22     414      112       414  \n",
       "25     326      572       326  \n",
       "26     184      126       126  "
      ]
     },
     "execution_count": 4,
     "metadata": {},
     "output_type": "execute_result"
    }
   ],
   "source": [
    "df = _munge(\"next-fig3.json.zip\")\n",
    "df = df[df.alg == \"RandomSampling\"]\n",
    "for col in [\"head\", \"left\", \"right\", \"winner\"]:\n",
    "    df[f\"{col}_x\"] = df[col].apply(smoothness.get)\n",
    "df.head()"
   ]
  },
  {
   "cell_type": "code",
   "execution_count": 5,
   "metadata": {},
   "outputs": [
    {
     "data": {
      "text/plain": [
       "array([11,  9, 20, 15, 21, 13, 12,  6, 23,  3,  1, 17,  7, 25, 27, 19,  0,\n",
       "       24, 26,  8, 28, 18, 10,  4, 22,  5, 14, 16, 29,  2])"
      ]
     },
     "execution_count": 5,
     "metadata": {},
     "output_type": "execute_result"
    }
   ],
   "source": [
    "df[\"head\"].unique()"
   ]
  },
  {
   "cell_type": "code",
   "execution_count": 6,
   "metadata": {},
   "outputs": [
    {
     "data": {
      "text/plain": [
       "array([ 50, 256, 438, 254, 454,  22, 470, 312, 494, 326, 208, 200,  36,\n",
       "       152, 142, 220, 126, 194, 420, 414, 114, 524,  74, 526, 112, 322,\n",
       "       430, 572, 184,  76])"
      ]
     },
     "execution_count": 6,
     "metadata": {},
     "output_type": "execute_result"
    }
   ],
   "source": [
    "df[\"head_x\"].unique()"
   ]
  },
  {
   "cell_type": "code",
   "execution_count": 7,
   "metadata": {},
   "outputs": [
    {
     "data": {
      "text/plain": [
       "0.8347996089931574"
      ]
     },
     "execution_count": 7,
     "metadata": {},
     "output_type": "execute_result"
    }
   ],
   "source": [
    "import numpy as np\n",
    "d_hl = np.abs(df[\"head_x\"] - df[\"left_x\"])\n",
    "d_hr = np.abs(df[\"head_x\"] - df[\"right_x\"])\n",
    "\n",
    "correct  = (d_hl < d_hr) & (df[\"winner_x\"] == df[\"left_x\"])\n",
    "correct |= (d_hr < d_hl) & (df[\"winner_x\"] == df[\"right_x\"])\n",
    "assert 0 <= correct.min() <= correct.max() <= 1\n",
    "df[\"correct\"] = correct.astype(int)\n",
    "correct.mean()"
   ]
  },
  {
   "cell_type": "code",
   "execution_count": 8,
   "metadata": {},
   "outputs": [
    {
     "name": "stdout",
     "output_type": "stream",
     "text": [
      "51\n",
      "[ 0.07074231 17.55473809]\n"
     ]
    },
    {
     "data": {
      "image/png": "[encoded data removed]",
      "text/plain": [
       "<Figure size 432x288 with 1 Axes>"
      ]
     },
     "metadata": {
      "image/png": {
       "height": 265,
       "width": 393
      },
      "needs_background": "light"
     },
     "output_type": "display_data"
    }
   ],
   "source": [
    "from scipy.optimize import curve_fit\n",
    "factor = 10\n",
    "df[\"ratio\"] = np.maximum(d_hl, d_hr) / (d_hl + d_hr)\n",
    "df[\"ratio_rounded\"] = np.round(df[\"ratio\"] * factor, decimals=1) / factor\n",
    "print(df[\"ratio_rounded\"].nunique())\n",
    "\n",
    "def sigmoid(x, err=0.06, rate=13.0):\n",
    "    noiseless = 1 / (1 + np.exp(-rate * (x - 0.5)))\n",
    "    p_correct = (1 - err*2) * (noiseless - 0.5) + 0.5\n",
    "    return p_correct\n",
    "\n",
    "x = np.linspace(0.5, 1, num=100)\n",
    "popt, pcov = curve_fit(sigmoid, df[\"ratio\"], df[\"correct\"], p0=(0.06, 13))\n",
    "print(popt)\n",
    "y = sigmoid(x, *popt)\n",
    "\n",
    "ax = df.pivot_table(\n",
    "    index=\"ratio_rounded\",\n",
    "    values=\"correct\",\n",
    ").plot(style=\"o\")\n",
    "ax.plot(x, y, label=\"sigmoid\")\n",
    "ax.legend(loc=\"best\")\n",
    "\n",
    "ax.set_xlim(0.5, 1)\n",
    "ax.set_ylim(0.5, 1)\n",
    "ax.set_xlabel(\"Ratio (rounded)\")\n",
    "ax.set_ylabel(\"Prob. correct\")\n",
    "ax.grid(alpha=0.5)"
   ]
  },
  {
   "cell_type": "markdown",
   "metadata": {},
   "source": []
  }
 ],
 "metadata": {
  "kernelspec": {
   "display_name": "Python 3",
   "language": "python",
   "name": "python3"
  },
  "language_info": {
   "codemirror_mode": {
    "name": "ipython",
    "version": 3
   },
   "file_extension": ".py",
   "mimetype": "text/x-python",
   "name": "python",
   "nbconvert_exporter": "python",
   "pygments_lexer": "ipython3",
   "version": "3.8.8"
  }
 },
 "nbformat": 4,
 "nbformat_minor": 4
}
