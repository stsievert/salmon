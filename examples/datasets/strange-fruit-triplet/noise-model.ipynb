{
 "cells": [
  {
   "cell_type": "code",
   "execution_count": 1,
   "metadata": {},
   "outputs": [],
   "source": [
    "import pandas as pd"
   ]
  },
  {
   "cell_type": "code",
   "execution_count": 2,
   "metadata": {},
   "outputs": [
    {
     "data": {
      "text/html": [
       "<div>\n",
       "<style scoped>\n",
       "    .dataframe tbody tr th:only-of-type {\n",
       "        vertical-align: middle;\n",
       "    }\n",
       "\n",
       "    .dataframe tbody tr th {\n",
       "        vertical-align: top;\n",
       "    }\n",
       "\n",
       "    .dataframe thead th {\n",
       "        text-align: right;\n",
       "    }\n",
       "</style>\n",
       "<table border=\"1\" class=\"dataframe\">\n",
       "  <thead>\n",
       "    <tr style=\"text-align: right;\">\n",
       "      <th></th>\n",
       "      <th>Participant.ID</th>\n",
       "      <th>Timestamp</th>\n",
       "      <th>Center</th>\n",
       "      <th>Left</th>\n",
       "      <th>Right</th>\n",
       "      <th>Answer</th>\n",
       "      <th>Response.Time..s.</th>\n",
       "      <th>Alg.Label</th>\n",
       "      <th>origTime</th>\n",
       "      <th>origAlg.Label</th>\n",
       "    </tr>\n",
       "  </thead>\n",
       "  <tbody>\n",
       "    <tr>\n",
       "      <th>0</th>\n",
       "      <td>1099</td>\n",
       "      <td>2001-01-01 00:00:00.000001</td>\n",
       "      <td>i0464</td>\n",
       "      <td>i0532</td>\n",
       "      <td>i0546</td>\n",
       "      <td>i0532</td>\n",
       "      <td>7955</td>\n",
       "      <td>Train</td>\n",
       "      <td>31:28.0</td>\n",
       "      <td>Random</td>\n",
       "    </tr>\n",
       "    <tr>\n",
       "      <th>1</th>\n",
       "      <td>1099</td>\n",
       "      <td>2001-01-01 00:00:00.000002</td>\n",
       "      <td>i0246</td>\n",
       "      <td>i0386</td>\n",
       "      <td>i0462</td>\n",
       "      <td>i0386</td>\n",
       "      <td>2233</td>\n",
       "      <td>Train</td>\n",
       "      <td>31:28.0</td>\n",
       "      <td>Random</td>\n",
       "    </tr>\n",
       "    <tr>\n",
       "      <th>2</th>\n",
       "      <td>1099</td>\n",
       "      <td>2001-01-01 00:00:00.000003</td>\n",
       "      <td>i0524</td>\n",
       "      <td>i0586</td>\n",
       "      <td>i0412</td>\n",
       "      <td>i0586</td>\n",
       "      <td>3627</td>\n",
       "      <td>Test</td>\n",
       "      <td>31:28.0</td>\n",
       "      <td>Test</td>\n",
       "    </tr>\n",
       "    <tr>\n",
       "      <th>3</th>\n",
       "      <td>1100</td>\n",
       "      <td>2001-01-01 00:00:00.000004</td>\n",
       "      <td>i0444</td>\n",
       "      <td>i0116</td>\n",
       "      <td>i0034</td>\n",
       "      <td>i0116</td>\n",
       "      <td>1775</td>\n",
       "      <td>Train</td>\n",
       "      <td>36:54.0</td>\n",
       "      <td>Uncertainty</td>\n",
       "    </tr>\n",
       "    <tr>\n",
       "      <th>4</th>\n",
       "      <td>1100</td>\n",
       "      <td>2001-01-01 00:00:00.000005</td>\n",
       "      <td>i0308</td>\n",
       "      <td>i0236</td>\n",
       "      <td>i0050</td>\n",
       "      <td>i0236</td>\n",
       "      <td>1445</td>\n",
       "      <td>Train</td>\n",
       "      <td>36:54.0</td>\n",
       "      <td>Uncertainty</td>\n",
       "    </tr>\n",
       "  </tbody>\n",
       "</table>\n",
       "</div>"
      ],
      "text/plain": [
       "   Participant.ID                   Timestamp Center   Left  Right Answer  \\\n",
       "0            1099  2001-01-01 00:00:00.000001  i0464  i0532  i0546  i0532   \n",
       "1            1099  2001-01-01 00:00:00.000002  i0246  i0386  i0462  i0386   \n",
       "2            1099  2001-01-01 00:00:00.000003  i0524  i0586  i0412  i0586   \n",
       "3            1100  2001-01-01 00:00:00.000004  i0444  i0116  i0034  i0116   \n",
       "4            1100  2001-01-01 00:00:00.000005  i0308  i0236  i0050  i0236   \n",
       "\n",
       "   Response.Time..s. Alg.Label origTime origAlg.Label  \n",
       "0               7955     Train  31:28.0        Random  \n",
       "1               2233     Train  31:28.0        Random  \n",
       "2               3627      Test  31:28.0          Test  \n",
       "3               1775     Train  36:54.0   Uncertainty  \n",
       "4               1445     Train  36:54.0   Uncertainty  "
      ]
     },
     "execution_count": 2,
     "metadata": {},
     "output_type": "execute_result"
    }
   ],
   "source": [
    "responses = pd.read_csv(\"responses.csv\")\n",
    "responses.head()"
   ]
  },
  {
   "cell_type": "code",
   "execution_count": 5,
   "metadata": {},
   "outputs": [
    {
     "name": "stdout",
     "output_type": "stream",
     "text": [
      "head      0.772575\n",
      "left      0.886288\n",
      "right     0.909699\n",
      "winner    0.886288\n",
      "Name: 0, dtype: float64\n"
     ]
    },
    {
     "data": {
      "text/html": [
       "<div>\n",
       "<style scoped>\n",
       "    .dataframe tbody tr th:only-of-type {\n",
       "        vertical-align: middle;\n",
       "    }\n",
       "\n",
       "    .dataframe tbody tr th {\n",
       "        vertical-align: top;\n",
       "    }\n",
       "\n",
       "    .dataframe thead th {\n",
       "        text-align: right;\n",
       "    }\n",
       "</style>\n",
       "<table border=\"1\" class=\"dataframe\">\n",
       "  <thead>\n",
       "    <tr style=\"text-align: right;\">\n",
       "      <th></th>\n",
       "      <th>head</th>\n",
       "      <th>left</th>\n",
       "      <th>right</th>\n",
       "      <th>winner</th>\n",
       "    </tr>\n",
       "  </thead>\n",
       "  <tbody>\n",
       "    <tr>\n",
       "      <th>count</th>\n",
       "      <td>7456.000000</td>\n",
       "      <td>7456.000000</td>\n",
       "      <td>7456.000000</td>\n",
       "      <td>7456.000000</td>\n",
       "    </tr>\n",
       "    <tr>\n",
       "      <th>mean</th>\n",
       "      <td>0.498529</td>\n",
       "      <td>0.508742</td>\n",
       "      <td>0.492428</td>\n",
       "      <td>0.508742</td>\n",
       "    </tr>\n",
       "    <tr>\n",
       "      <th>std</th>\n",
       "      <td>0.289540</td>\n",
       "      <td>0.268817</td>\n",
       "      <td>0.311041</td>\n",
       "      <td>0.268817</td>\n",
       "    </tr>\n",
       "    <tr>\n",
       "      <th>min</th>\n",
       "      <td>0.000000</td>\n",
       "      <td>0.000000</td>\n",
       "      <td>0.000000</td>\n",
       "      <td>0.000000</td>\n",
       "    </tr>\n",
       "    <tr>\n",
       "      <th>25%</th>\n",
       "      <td>0.250836</td>\n",
       "      <td>0.287625</td>\n",
       "      <td>0.200669</td>\n",
       "      <td>0.287625</td>\n",
       "    </tr>\n",
       "    <tr>\n",
       "      <th>50%</th>\n",
       "      <td>0.498328</td>\n",
       "      <td>0.508361</td>\n",
       "      <td>0.498328</td>\n",
       "      <td>0.508361</td>\n",
       "    </tr>\n",
       "    <tr>\n",
       "      <th>75%</th>\n",
       "      <td>0.749164</td>\n",
       "      <td>0.725753</td>\n",
       "      <td>0.779264</td>\n",
       "      <td>0.725753</td>\n",
       "    </tr>\n",
       "    <tr>\n",
       "      <th>max</th>\n",
       "      <td>1.000000</td>\n",
       "      <td>1.000000</td>\n",
       "      <td>1.000000</td>\n",
       "      <td>1.000000</td>\n",
       "    </tr>\n",
       "  </tbody>\n",
       "</table>\n",
       "</div>"
      ],
      "text/plain": [
       "              head         left        right       winner\n",
       "count  7456.000000  7456.000000  7456.000000  7456.000000\n",
       "mean      0.498529     0.508742     0.492428     0.508742\n",
       "std       0.289540     0.268817     0.311041     0.268817\n",
       "min       0.000000     0.000000     0.000000     0.000000\n",
       "25%       0.250836     0.287625     0.200669     0.287625\n",
       "50%       0.498328     0.508361     0.498328     0.508361\n",
       "75%       0.749164     0.725753     0.779264     0.725753\n",
       "max       1.000000     1.000000     1.000000     1.000000"
      ]
     },
     "execution_count": 5,
     "metadata": {},
     "output_type": "execute_result"
    }
   ],
   "source": [
    "random = responses[\"origAlg.Label\"] == \"Random\"\n",
    "df = responses.loc[random, [\"Center\", \"Left\", \"Right\", \"Answer\"]].copy()\n",
    "df.columns = [\"head\", \"left\", \"right\", \"winner\"]\n",
    "for c in df.columns:\n",
    "    df[c] = df[c].apply(lambda x: int(x.replace(\"i\", \"\")))\n",
    "    zero_min = df[c] - df[c].min()\n",
    "    df[c] = zero_min / zero_min.max()\n",
    "print(df.iloc[0])\n",
    "df.describe()"
   ]
  },
  {
   "cell_type": "code",
   "execution_count": 9,
   "metadata": {},
   "outputs": [
    {
     "data": {
      "text/html": [
       "<div>\n",
       "<style scoped>\n",
       "    .dataframe tbody tr th:only-of-type {\n",
       "        vertical-align: middle;\n",
       "    }\n",
       "\n",
       "    .dataframe tbody tr th {\n",
       "        vertical-align: top;\n",
       "    }\n",
       "\n",
       "    .dataframe thead th {\n",
       "        text-align: right;\n",
       "    }\n",
       "</style>\n",
       "<table border=\"1\" class=\"dataframe\">\n",
       "  <thead>\n",
       "    <tr style=\"text-align: right;\">\n",
       "      <th></th>\n",
       "      <th>head</th>\n",
       "      <th>left</th>\n",
       "      <th>right</th>\n",
       "      <th>winner</th>\n",
       "      <th>ground_truth</th>\n",
       "      <th>ldiff</th>\n",
       "      <th>rdiff</th>\n",
       "      <th>min_diff</th>\n",
       "      <th>max_diff</th>\n",
       "      <th>ratio</th>\n",
       "      <th>correct</th>\n",
       "      <th>ratio_rounded</th>\n",
       "    </tr>\n",
       "  </thead>\n",
       "  <tbody>\n",
       "    <tr>\n",
       "      <th>0</th>\n",
       "      <td>0.772575</td>\n",
       "      <td>0.886288</td>\n",
       "      <td>0.909699</td>\n",
       "      <td>0.886288</td>\n",
       "      <td>0.886288</td>\n",
       "      <td>0.113712</td>\n",
       "      <td>0.137124</td>\n",
       "      <td>0.113712</td>\n",
       "      <td>0.137124</td>\n",
       "      <td>0.546667</td>\n",
       "      <td>True</td>\n",
       "      <td>0.55</td>\n",
       "    </tr>\n",
       "    <tr>\n",
       "      <th>1</th>\n",
       "      <td>0.408027</td>\n",
       "      <td>0.642140</td>\n",
       "      <td>0.769231</td>\n",
       "      <td>0.642140</td>\n",
       "      <td>0.642140</td>\n",
       "      <td>0.234114</td>\n",
       "      <td>0.361204</td>\n",
       "      <td>0.234114</td>\n",
       "      <td>0.361204</td>\n",
       "      <td>0.606742</td>\n",
       "      <td>True</td>\n",
       "      <td>0.61</td>\n",
       "    </tr>\n",
       "    <tr>\n",
       "      <th>9</th>\n",
       "      <td>0.591973</td>\n",
       "      <td>0.387960</td>\n",
       "      <td>0.411371</td>\n",
       "      <td>0.387960</td>\n",
       "      <td>0.411371</td>\n",
       "      <td>0.204013</td>\n",
       "      <td>0.180602</td>\n",
       "      <td>0.180602</td>\n",
       "      <td>0.204013</td>\n",
       "      <td>0.530435</td>\n",
       "      <td>False</td>\n",
       "      <td>0.53</td>\n",
       "    </tr>\n",
       "    <tr>\n",
       "      <th>12</th>\n",
       "      <td>0.488294</td>\n",
       "      <td>0.585284</td>\n",
       "      <td>0.371237</td>\n",
       "      <td>0.585284</td>\n",
       "      <td>0.585284</td>\n",
       "      <td>0.096990</td>\n",
       "      <td>0.117057</td>\n",
       "      <td>0.096990</td>\n",
       "      <td>0.117057</td>\n",
       "      <td>0.546875</td>\n",
       "      <td>True</td>\n",
       "      <td>0.55</td>\n",
       "    </tr>\n",
       "    <tr>\n",
       "      <th>13</th>\n",
       "      <td>0.063545</td>\n",
       "      <td>0.107023</td>\n",
       "      <td>0.742475</td>\n",
       "      <td>0.107023</td>\n",
       "      <td>0.107023</td>\n",
       "      <td>0.043478</td>\n",
       "      <td>0.678930</td>\n",
       "      <td>0.043478</td>\n",
       "      <td>0.678930</td>\n",
       "      <td>0.939815</td>\n",
       "      <td>True</td>\n",
       "      <td>0.94</td>\n",
       "    </tr>\n",
       "  </tbody>\n",
       "</table>\n",
       "</div>"
      ],
      "text/plain": [
       "        head      left     right    winner  ground_truth     ldiff     rdiff  \\\n",
       "0   0.772575  0.886288  0.909699  0.886288      0.886288  0.113712  0.137124   \n",
       "1   0.408027  0.642140  0.769231  0.642140      0.642140  0.234114  0.361204   \n",
       "9   0.591973  0.387960  0.411371  0.387960      0.411371  0.204013  0.180602   \n",
       "12  0.488294  0.585284  0.371237  0.585284      0.585284  0.096990  0.117057   \n",
       "13  0.063545  0.107023  0.742475  0.107023      0.107023  0.043478  0.678930   \n",
       "\n",
       "    min_diff  max_diff     ratio  correct  ratio_rounded  \n",
       "0   0.113712  0.137124  0.546667     True           0.55  \n",
       "1   0.234114  0.361204  0.606742     True           0.61  \n",
       "9   0.180602  0.204013  0.530435    False           0.53  \n",
       "12  0.096990  0.117057  0.546875     True           0.55  \n",
       "13  0.043478  0.678930  0.939815     True           0.94  "
      ]
     },
     "execution_count": 9,
     "metadata": {},
     "output_type": "execute_result"
    }
   ],
   "source": [
    "import numpy as np\n",
    "\n",
    "def choose_winner(row):\n",
    "    ldiff = np.abs(row[\"head\"] - row[\"left\"])\n",
    "    rdiff = np.abs(row[\"head\"] - row[\"right\"])\n",
    "    if ldiff <= rdiff:\n",
    "        winner = row[\"left\"]\n",
    "    else:\n",
    "        winner = row[\"right\"]\n",
    "    return winner\n",
    "\n",
    "df[\"ground_truth\"] = df.apply(choose_winner, axis=1)\n",
    "ldiff = np.abs(df[\"head\"] - df[\"left\"])\n",
    "rdiff = np.abs(df[\"head\"] - df[\"right\"])\n",
    "df[\"ldiff\"] = ldiff\n",
    "df[\"rdiff\"] = rdiff\n",
    "df[\"min_diff\"] = np.minimum(ldiff, rdiff)\n",
    "df[\"max_diff\"] = np.maximum(ldiff, rdiff)\n",
    "df[\"ratio\"] = df[\"max_diff\"] / (df[\"max_diff\"] + df[\"min_diff\"])\n",
    "df[\"correct\"] = df[\"winner\"] == df[\"ground_truth\"]\n",
    "df.head()"
   ]
  },
  {
   "cell_type": "code",
   "execution_count": 10,
   "metadata": {},
   "outputs": [
    {
     "data": {
      "text/plain": [
       "array([0.91, 0.92, 0.93, 0.94, 0.95, 0.96, 0.97, 0.98, 0.99, 1.  ])"
      ]
     },
     "execution_count": 10,
     "metadata": {},
     "output_type": "execute_result"
    }
   ],
   "source": [
    "import seaborn as sns\n",
    "\n",
    "df[\"ratio_rounded\"] = np.round(df[\"ratio\"], decimals=2)\n",
    "np.unique(np.sort(df[\"ratio_rounded\"]))[-10:]"
   ]
  },
  {
   "cell_type": "code",
   "execution_count": 11,
   "metadata": {},
   "outputs": [
    {
     "name": "stdout",
     "output_type": "stream",
     "text": [
      "tanh [9.3130595  0.45659234]\n",
      "sigmoid [19.5270248]\n"
     ]
    },
    {
     "data": {
      "image/png": "[encoded data removed]",
      "text/plain": [
       "<Figure size 432x288 with 1 Axes>"
      ]
     },
     "metadata": {
      "image/png": {
       "height": 266,
       "width": 393
      },
      "needs_background": "light"
     },
     "output_type": "display_data"
    }
   ],
   "source": [
    "from scipy.optimize import curve_fit\n",
    "\n",
    "def tanh(x, rate=7.4, final=0.47):\n",
    "    return final * np.tanh(rate * (x - 0.5)) + 0.5\n",
    "\n",
    "def sigmoid(x, rate):\n",
    "    return 0.9567 / (1 + np.exp(-rate * (x - 0.5)))\n",
    "\n",
    "show = df.pivot_table(\n",
    "    index=\"ratio_rounded\",\n",
    "    values=\"correct\",\n",
    "    aggfunc=\"mean\",\n",
    ").reset_index()\n",
    "    \n",
    "\n",
    "x = show[\"ratio_rounded\"].values\n",
    "y = show[\"correct\"].values\n",
    "\n",
    "ax = show.plot.scatter(x=\"ratio_rounded\", y=\"correct\", label=\"responses\")\n",
    "ax.set_xlim(0.5, 1)\n",
    "ax.set_ylim(0.5, 1)\n",
    "\n",
    "for fn in [tanh, sigmoid]:\n",
    "    popt, pcov = curve_fit(fn, x, y)\n",
    "    x_show = np.linspace(0.5, 1)\n",
    "    y_show = fn(x_show, *popt)\n",
    "    ax.plot(x_show, y_show, label=fn.__name__)\n",
    "    print(fn.__name__, popt)\n",
    "ax.legend(loc=\"best\")\n",
    "ax.grid(alpha=0.6)"
   ]
  },
  {
   "cell_type": "markdown",
   "metadata": {},
   "source": [
    "So then\n",
    "\n",
    "$$\\mathbb{P}(\\text{correct}) = \\frac{0.9567}{1 + \\exp\\left[-19.52697 (r - 0.5) \\right]}$$"
   ]
  },
  {
   "cell_type": "markdown",
   "metadata": {},
   "source": [
    "where $$r = \\frac{s_{\\max}}{s_{\\min} + s_{\\max}}$$"
   ]
  },
  {
   "cell_type": "code",
   "execution_count": 22,
   "metadata": {},
   "outputs": [
    {
     "data": {
      "text/plain": [
       "0         True\n",
       "1         True\n",
       "9        False\n",
       "12        True\n",
       "13        True\n",
       "         ...  \n",
       "17600     True\n",
       "17602     True\n",
       "17603     True\n",
       "17604     True\n",
       "17610    False\n",
       "Name: correct, Length: 7456, dtype: bool"
      ]
     },
     "execution_count": 22,
     "metadata": {},
     "output_type": "execute_result"
    }
   ],
   "source": [
    "df[\"correct\"]"
   ]
  },
  {
   "cell_type": "code",
   "execution_count": 23,
   "metadata": {},
   "outputs": [
    {
     "data": {
      "text/plain": [
       "<matplotlib.axes._subplots.AxesSubplot at 0x1a1d5d2cd0>"
      ]
     },
     "execution_count": 23,
     "metadata": {},
     "output_type": "execute_result"
    },
    {
     "data": {
      "image/png": "[encoded data removed]",
      "text/plain": [
       "<Figure size 432x288 with 1 Axes>"
      ]
     },
     "metadata": {
      "image/png": {
       "height": 248,
       "width": 395
      },
      "needs_background": "light"
     },
     "output_type": "display_data"
    }
   ],
   "source": [
    "df[\"ratio_rounded\"].plot.hist()"
   ]
  },
  {
   "cell_type": "code",
   "execution_count": 12,
   "metadata": {},
   "outputs": [],
   "source": [
    "from pathlib import Path\n",
    "\n",
    "import numpy as np\n",
    "import pandas as pd\n",
    "from sklearn.utils import check_random_state\n",
    "\n",
    "\n",
    "def strange_fruit(head, left, right, random_state=None):\n",
    "    \"\"\"\n",
    "    Parameters\n",
    "    ----------\n",
    "    head, left, right : int, int, int\n",
    "        Number of spikes on the various objects\n",
    "\n",
    "    Returns\n",
    "    -------\n",
    "    winner : str\n",
    "        Either \"left\" or \"right\"\n",
    "\n",
    "    Notes\n",
    "    -----\n",
    "    This is determined from human data.\n",
    "    See datasets/strange-fruit-triplet/noise-model.ipynb for details.\n",
    "    \"\"\"\n",
    "    ldiff = np.abs(head - left)\n",
    "    rdiff = np.abs(head - right)\n",
    "\n",
    "    r = np.maximum(ldiff, rdiff) / (ldiff + rdiff)\n",
    "    rate = 19.5269746\n",
    "    final = 0.9567\n",
    "    p_correct = final / (1 + np.exp(-rate * (r - 0.5)))\n",
    "\n",
    "    winner = 0 if ldiff < rdiff else 1\n",
    "    random_state = check_random_state(random_state)\n",
    "    if random_state.uniform() <= p_correct:\n",
    "        return winner\n",
    "    return 1 - winner\n"
   ]
  },
  {
   "cell_type": "code",
   "execution_count": 16,
   "metadata": {},
   "outputs": [
    {
     "data": {
      "text/plain": [
       "0"
      ]
     },
     "execution_count": 16,
     "metadata": {},
     "output_type": "execute_result"
    }
   ],
   "source": [
    "strange_fruit(0, 1, 3)"
   ]
  },
  {
   "cell_type": "code",
   "execution_count": 51,
   "metadata": {},
   "outputs": [],
   "source": [
    "rng = np.random.RandomState(42)\n",
    "\n",
    "n_targets = 600\n",
    "num_ans = 100_000\n",
    "X = rng.choice(n_targets, size=(num_ans, 3))\n",
    "y = [strange_fruit(h, l, r, random_state=rng) for h, l, r in X]"
   ]
  },
  {
   "cell_type": "code",
   "execution_count": 52,
   "metadata": {},
   "outputs": [
    {
     "data": {
      "text/plain": [
       "<matplotlib.axes._subplots.AxesSubplot at 0x1a1efad450>"
      ]
     },
     "execution_count": 52,
     "metadata": {},
     "output_type": "execute_result"
    },
    {
     "data": {
      "image/png": "[encoded data removed]",
      "text/plain": [
       "<Figure size 432x288 with 1 Axes>"
      ]
     },
     "metadata": {
      "image/png": {
       "height": 248,
       "width": 395
      },
      "needs_background": "light"
     },
     "output_type": "display_data"
    }
   ],
   "source": [
    "ground_truth = [choose_winner({\"head\": h, \"left\": l, \"right\": r}) for h, l, r in X]\n",
    "\n",
    "ldiff = np.abs(X[:, 0] - X[:, 1])\n",
    "rdiff = np.abs(X[:, 0] - X[:, 2])\n",
    "min_diff = np.minimum(ldiff, rdiff)\n",
    "max_diff = np.maximum(ldiff, rdiff)\n",
    "ratio = max_diff / (max_diff + min_diff)\n",
    "pd.Series(ratio).plot.hist(bins=20)"
   ]
  },
  {
   "cell_type": "code",
   "execution_count": null,
   "metadata": {},
   "outputs": [],
   "source": [
    "n = 100\n",
    "head = np.arange(n)\n",
    "l"
   ]
  }
 ],
 "metadata": {
  "kernelspec": {
   "display_name": "Python 3",
   "language": "python",
   "name": "python3"
  },
  "language_info": {
   "codemirror_mode": {
    "name": "ipython",
    "version": 3
   },
   "file_extension": ".py",
   "mimetype": "text/x-python",
   "name": "python",
   "nbconvert_exporter": "python",
   "pygments_lexer": "ipython3",
   "version": "3.7.4"
  }
 },
 "nbformat": 4,
 "nbformat_minor": 4
}
