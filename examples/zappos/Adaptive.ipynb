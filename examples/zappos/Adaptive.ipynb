{
 "cells": [
  {
   "cell_type": "code",
   "execution_count": 1,
   "metadata": {},
   "outputs": [],
   "source": [
    "!cd input-data; unzip -uq freqs.msgpack.zip; cd .."
   ]
  },
  {
   "cell_type": "code",
   "execution_count": 2,
   "metadata": {},
   "outputs": [],
   "source": [
    "!cd input-data; unzip -uq zappos.csv.zip; cd .."
   ]
  },
  {
   "cell_type": "code",
   "execution_count": 3,
   "metadata": {},
   "outputs": [],
   "source": [
    "import pandas as pd\n",
    "from pathlib import Path\n",
    "import requests\n",
    "import yaml\n",
    "import json\n",
    "import numpy as np\n",
    "import itertools\n",
    "from time import time, sleep"
   ]
  },
  {
   "cell_type": "code",
   "execution_count": 4,
   "metadata": {},
   "outputs": [],
   "source": [
    "from numba import jit\n",
    "import joblib\n",
    "from joblib import Parallel, delayed\n",
    "from typing import Tuple, Dict\n",
    "\n",
    "@jit(nopython=True, nogil=True)\n",
    "def __get_freqs(h: int, o1: int, o2: int, answers: pd.DataFrame) -> Tuple[int, int]:\n",
    "    head = answers[:, 0] == h\n",
    "    ans1 = (answers[:, 1] == o1) & (answers[:, 2] == o2)\n",
    "    ans2 = (answers[:, 1] == o2) & (answers[:, 2] == o1)\n",
    "    bool_idx = head & (ans1 | ans2)\n",
    "    if bool_idx.sum() == 0:\n",
    "        return (0, 0)\n",
    "    good_ans = answers[bool_idx]\n",
    "    o1_wins = (good_ans[:, 1] == o1).sum()\n",
    "    o2_wins = (good_ans[:, 1] == o2).sum()\n",
    "    return o1_wins, o2_wins\n",
    "\n",
    "Query = Tuple[int, int, int]\n",
    "Freq = Tuple[int, int]\n",
    "\n",
    "def _get_freqs(n: int, train_ans: pd.DataFrame) -> Dict[Query, Freq]:\n",
    "    def _inner_loop(h, arms, train_ans):\n",
    "        print(h)\n",
    "        prob = {\n",
    "            (h, o1, o2): __get_freqs(h, o1, o2, train_ans)\n",
    "            for o1 in arms - {h}\n",
    "            for o2 in arms - {h, o1}\n",
    "        }\n",
    "        return prob\n",
    "\n",
    "    arms = set(range(n))\n",
    "    responses = [_inner_loop(h, arms, train_ans) for h in arms]\n",
    "    out = {}\n",
    "    for r in responses:\n",
    "        out.update(r)\n",
    "    return out"
   ]
  },
  {
   "cell_type": "code",
   "execution_count": 5,
   "metadata": {},
   "outputs": [],
   "source": [
    "from sklearn.model_selection import train_test_split\n",
    "responses = pd.read_csv(\"input-data/zappos.csv\", usecols=[\"head\", \"b\", \"c\"])\n",
    "responses.columns = [\"head\", \"winner\", \"loser\"]\n",
    "\n",
    "N = responses[\"head\"].nunique()\n",
    "\n",
    "train, test = train_test_split(responses, random_state=42, test_size=0.2)\n",
    "train_ans = train.to_numpy()\n",
    "test_ans = test.to_numpy()"
   ]
  },
  {
   "cell_type": "code",
   "execution_count": 6,
   "metadata": {},
   "outputs": [
    {
     "name": "stdout",
     "output_type": "stream",
     "text": [
      "CPU times: user 484 ms, sys: 47.6 ms, total: 532 ms\n",
      "Wall time: 536 ms\n"
     ]
    }
   ],
   "source": [
    "%%time\n",
    "import pickle\n",
    "from joblib import Parallel, delayed\n",
    "import msgpack\n",
    "\n",
    "if False:\n",
    "    # about 52 minutes\n",
    "    freqs = _get_freqs(N, train_ans)\n",
    "    with open(\"input-data/freqs.msgpack\", \"wb\") as f:\n",
    "        msgpack.dump(freqs, f)\n",
    "else:\n",
    "    with open(\"input-data/freqs.msgpack\", \"rb\") as f:\n",
    "        freqs = msgpack.load(f)"
   ]
  },
  {
   "cell_type": "code",
   "execution_count": 7,
   "metadata": {},
   "outputs": [
    {
     "data": {
      "text/plain": [
       "{'d': 2,\n",
       " 'samplers': {'TSTE': {'optimizer': 'Embedding',\n",
       "   'optimizer__lr': 0.1,\n",
       "   'random_state': 1,\n",
       "   'sampling': 'random'}}}"
      ]
     },
     "execution_count": 7,
     "metadata": {},
     "output_type": "execute_result"
    }
   ],
   "source": [
    "# sampling = \"adaptive\"\n",
    "sampling = \"random\"\n",
    "alg = \"TSTE\"\n",
    "random_state = 1\n",
    "\n",
    "config = {\n",
    "    'targets': [str(x) for x in range(N)],\n",
    "    'd': 2,\n",
    "    'samplers': {\n",
    "        alg: {\n",
    "            'optimizer': 'Embedding',\n",
    "            'optimizer__lr': 0.1,\n",
    "            'random_state': random_state,\n",
    "            'sampling': sampling,\n",
    "        }\n",
    "    }\n",
    "}\n",
    "{k: v for k, v in config.items() if k not in [\"targets\"]}"
   ]
  },
  {
   "cell_type": "code",
   "execution_count": 6,
   "metadata": {},
   "outputs": [
    {
     "name": "stdout",
     "output_type": "stream",
     "text": [
      "done1\n",
      "done2\n"
     ]
    }
   ],
   "source": [
    "base = \"http://127.0.0.1\"\n",
    "r = requests.get(f\"{base}:8421/reset?force=1\", auth=(\"foo\", \"bar\"))\n",
    "print(\"done1\")\n",
    "assert r.status_code == 200\n",
    "r = requests.post(f\"{base}:8421/init_exp\", data={\"exp\": bytes(str(config), \"ascii\")}, auth=(\"foo\", \"bar\"))\n",
    "assert r.status_code == 200\n",
    "print(\"done2\")\n",
    "sleep(1)"
   ]
  },
  {
   "cell_type": "code",
   "execution_count": 7,
   "metadata": {},
   "outputs": [
    {
     "data": {
      "text/plain": [
       "'<html><body>\\n        <br><br>\\n        <p>\\n        Now, Salmon presents the following interfaces:\\n        </p>\\n        <p><ul style=\"text-align: center;\">\\n        <li><a href=\"/\">Query page</a>. Send this page to crowdsourcing participants.</li>\\n        <li><a href=\"/dashboard\">Dashboard</a>. Use this page to monitor experimental progress.</li>\\n        </ul></p>\\n        </body></html>\\n'"
      ]
     },
     "execution_count": 7,
     "metadata": {},
     "output_type": "execute_result"
    }
   ],
   "source": [
    "r.text"
   ]
  },
  {
   "cell_type": "code",
   "execution_count": 8,
   "metadata": {},
   "outputs": [
    {
     "name": "stdout",
     "output_type": "stream",
     "text": [
      "10895.964591434093\n"
     ]
    }
   ],
   "source": [
    "from time import time, sleep\n",
    "\n",
    "targets = config[\"targets\"]\n",
    "n = len(targets)\n",
    "d = 2\n",
    "\n",
    "num_ans = 10 * n * d * np.log2(n)\n",
    "print(num_ans)\n",
    "\n",
    "data = []"
   ]
  },
  {
   "cell_type": "code",
   "execution_count": 9,
   "metadata": {},
   "outputs": [],
   "source": [
    "def _answer(q, freqs):\n",
    "    h, o1, o2 = q\n",
    "    ret = None\n",
    "    key = bytes(f'{h}-{o1}-{o2}', \"ascii\")\n",
    "    if key not in freqs:\n",
    "        return None\n",
    "    o1_wins, o2_wins = freqs[key]\n",
    "    return o1_wins, o2_wins\n",
    "\n",
    "def answer_with(q, freqs, rng):\n",
    "    h, o1, o2 = q\n",
    "    o1_wins, o2_wins = _answer(q, freqs)\n",
    "    answers = [o1] * o1_wins + [o2] * o2_wins\n",
    "    if not len(answers):\n",
    "        return None\n",
    "    return int(rng.choice(answers))"
   ]
  },
  {
   "cell_type": "code",
   "execution_count": 10,
   "metadata": {},
   "outputs": [],
   "source": [
    "import sys\n",
    "from pathlib import Path\n",
    "project_dir = Path(\".\").absolute().parent.parent\n",
    "search = project_dir / \"salmon\" / \"triplets\" / \"algs\" / \"adaptive\" / \"search\"\n",
    "sys.path.append(str(search))\n",
    "import gram_utils\n",
    "\n",
    "def score(embedding, queries):\n",
    "    gram_matrix = gram_utils.gram_matrix(embedding)\n",
    "    dists = gram_utils.distances(gram_matrix)\n",
    "    # queries is organized as [\"head\", \"winner\", \"loser\"]\n",
    "    winner_dists = dists[queries[:, 0], queries[:, 1]]\n",
    "    loser_dists = dists[queries[:, 0], queries[:, 2]]\n",
    "    acc = (winner_dists <= loser_dists).mean()\n",
    "    return acc"
   ]
  },
  {
   "cell_type": "code",
   "execution_count": null,
   "metadata": {},
   "outputs": [
    {
     "name": "stdout",
     "output_type": "stream",
     "text": [
      "1\n"
     ]
    }
   ],
   "source": [
    "rng = np.random.RandomState(random_state)\n",
    "\n",
    "data = []\n",
    "for k in range(12_000):\n",
    "    datum = {\"client_num_ans\": k + 1, \"loop_start_time\": time()}\n",
    "    if k % 100 == 0:\n",
    "        print(datum[\"client_num_ans\"])\n",
    "        df = pd.DataFrame(data)\n",
    "        df.to_parquet(f\"{sampling}-data.parquet\")\n",
    "    _start = time()\n",
    "    q = requests.get(f\"{base}:8421/query\")\n",
    "    assert q.status_code == 200\n",
    "    q = q.json()\n",
    "    datum[\"get_query_time\"] = time() - _start\n",
    "    datum.update(q)\n",
    "    \n",
    "    winner = answer_with((q[\"head\"], q[\"left\"], q[\"right\"]), freqs, rng)\n",
    "    if winner is None:\n",
    "        continue\n",
    "    datum[\"winner\"] = winner\n",
    "\n",
    "    answer = {\"winner\": winner, \"puid\": \"0\", \"response_time\": 0, **q}\n",
    "    sleep(0.25)  # \"human response time\"\n",
    "    _start = time()\n",
    "    a = requests.post(f\"{base}:8421/answer\", data=json.dumps(answer))\n",
    "    datum[\"post_answer_time\"] = time() - _start\n",
    "    assert a.status_code == 200\n",
    "    \n",
    "    _start = time()\n",
    "    e = requests.get(f\"{base}:8421/model/{alg}\").json()\n",
    "    em = e.pop(\"embedding\")\n",
    "    datum.update(e)\n",
    "    em = np.array(em)\n",
    "\n",
    "    _score = score(em, test_ans)\n",
    "    datum.update({\"accuracy\": _score})\n",
    "\n",
    "    datum[\"embedding_max\"] = np.abs(np.array(em)).max()\n",
    "    datum[\"get_model_time\"] = time() - _start\n",
    "    data.append(datum)\n",
    "    \n",
    "    if k % 50 == 0:\n",
    "        df = pd.DataFrame(data)\n",
    "        df.to_parquet(f\"{sampling}-data.parquet\")"
   ]
  },
  {
   "cell_type": "code",
   "execution_count": null,
   "metadata": {},
   "outputs": [],
   "source": []
  }
 ],
 "metadata": {
  "kernelspec": {
   "display_name": "Python [conda env:root] *",
   "language": "python",
   "name": "conda-root-py"
  },
  "language_info": {
   "codemirror_mode": {
    "name": "ipython",
    "version": 3
   },
   "file_extension": ".py",
   "mimetype": "text/x-python",
   "name": "python",
   "nbconvert_exporter": "python",
   "pygments_lexer": "ipython3",
   "version": "3.7.4"
  }
 },
 "nbformat": 4,
 "nbformat_minor": 4
}
